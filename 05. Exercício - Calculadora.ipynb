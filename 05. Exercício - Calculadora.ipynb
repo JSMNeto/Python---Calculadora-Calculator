{
 "cells": [
  {
   "cell_type": "code",
   "execution_count": 7,
   "id": "eaee7475-6bc9-44c0-bca4-0740e2fb4720",
   "metadata": {},
   "outputs": [
    {
     "name": "stdout",
     "output_type": "stream",
     "text": [
      "\n"
     ]
    }
   ],
   "source": [
    "\"\"\"\n",
    "Exercício: Calculadora Simples\n",
    "\n",
    "Desenvolva uma calculadora simples que permite ao usuário realizar operações \n",
    "básicas de adição, subtração, multiplicação e divisão.\n",
    "\n",
    "Objetivos:\n",
    "\n",
    "    Mostrar um Menu ao Usuário:\n",
    "    \n",
    "        - A calculadora deve exibir um menu com cinco opções: \n",
    "            - adição\n",
    "            - subtração\n",
    "            - multiplicação\n",
    "            - divisão\n",
    "            - sair\n",
    "            \n",
    "        O usuário deve ser capaz de selecionar a operação desejada através da entrada de um número correspondente.\n",
    "\n",
    "    Receber Dois Números:\n",
    "    \n",
    "        - Após selecionar a operação, o usuário deve inserir dois números\n",
    "        que serão utilizados na operação.\n",
    "\n",
    "    Realizar a Operação Selecionada:\n",
    "    \n",
    "        - A calculadora deve realizar a operação selecionada com os números \n",
    "        inseridos e exibir o resultado.\n",
    "        \n",
    "    Repetir ou Encerrar:\n",
    "    \n",
    "        - Após cada operação, o menu deve ser exibido novamente, permitindo que \n",
    "        o usuário realize outra operação ou saia do programa.\n",
    "        - O programa deve continuar funcionando até que o usuário escolha sair.\n",
    "\n",
    "\n",
    "Boa sorte e divirta-se programando!\n",
    "\"\"\"\n",
    "print()"
   ]
  },
  {
   "cell_type": "code",
   "execution_count": 5,
   "id": "211c2217-b8f4-4d65-895c-238c632b1aed",
   "metadata": {
    "scrolled": true
   },
   "outputs": [
    {
     "name": "stdout",
     "output_type": "stream",
     "text": [
      "\n",
      "CALCULADORA PYTHON \n",
      "1 - Adição \n",
      "2 - Subtração \n",
      "3 - Multiplicação \n",
      "4 - Divisão \n",
      "5 - Sair\n"
     ]
    },
    {
     "name": "stdin",
     "output_type": "stream",
     "text": [
      "Escolha uma opreação (1-5): 5\n"
     ]
    },
    {
     "name": "stdout",
     "output_type": "stream",
     "text": [
      "Obrigado por usar nossa CALCULADORA. Até a próxima!\n"
     ]
    }
   ],
   "source": [
    "while True:\n",
    "    print (\"\\nCALCULADORA PYTHON\", \"\\n1 - Adição\", \"\\n2 - Subtração\", \"\\n3 - Multiplicação\", \"\\n4 - Divisão\", \"\\n5 - Sair\")\n",
    "    opcao = int(input(\"Escolha uma opreação (1-5):\"))\n",
    "    if opcao == 1:\n",
    "        ad_01 = int(input(\"Digite o 1º número:\"))\n",
    "        ad_02 = int(input(\"Digite o 2º número:\"))\n",
    "        print(\"O resultado da SOMA é de\", ad_01+ad_02)\n",
    "\n",
    "\n",
    "    elif opcao == 2:\n",
    "        sub_01 = int(input(\"Digite o 1º número:\")) \n",
    "        sub_02 = int(input(\"Digite o 2º número:\"))\n",
    "        print(\"O resultado da SUBTRAÇÃO é de\", sub_01-sub_02)\n",
    "\n",
    "    elif opcao == 3:\n",
    "        mult_01 = int(input(\"Digite o 1º número:\")) \n",
    "        mult_02 = int(input(\"Digite o 2º número:\"))\n",
    "        print(\"O resultado da MULTIPLICAÇÃO é de\", mult_01*mult_02)\n",
    "\n",
    "    elif opcao == 4:\n",
    "        div_01 = int(input(\"Digite o 1º número:\")) \n",
    "        div_02 = int(input(\"Digite o 2º número:\"))\n",
    "        if div_01 and div_02 > 0:\n",
    "            print(\"O resultado da DIVISÃO é de\", div_01//div_02)\n",
    "        \n",
    "        if div_01 == 0 or div_02 == 0:\n",
    "            print (\"Erro: Divisão por ZERO.\")\n",
    "\n",
    "    elif opcao == 5:\n",
    "        print (\"Obrigado por usar nossa CALCULADORA. Até a próxima!\")\n",
    "        break\n",
    "        \n",
    "    else:\n",
    "        print(\"Operação incorreta. Por favor, tente novamente!\")\n",
    "    \n"
   ]
  },
  {
   "cell_type": "code",
   "execution_count": null,
   "id": "0af5b557-79e9-4127-a976-8a3b53143350",
   "metadata": {},
   "outputs": [],
   "source": []
  },
  {
   "cell_type": "code",
   "execution_count": 8,
   "id": "a596182d-7f45-461e-9675-ed22d05cf490",
   "metadata": {},
   "outputs": [],
   "source": [
    "# RESPOSTA COM A LÓGICA DO PROFESSOR"
   ]
  },
  {
   "cell_type": "code",
   "execution_count": null,
   "id": "23936cae-9463-4375-a71e-763113e02c38",
   "metadata": {},
   "outputs": [
    {
     "name": "stdout",
     "output_type": "stream",
     "text": [
      "\n",
      "CALCULADORA PYTHON \n",
      "1 - Adição \n",
      "2 - Subtração \n",
      "3 - Multiplicação \n",
      "4 - Divisão \n",
      "5 - Sair\n"
     ]
    },
    {
     "name": "stdin",
     "output_type": "stream",
     "text": [
      "Escolha uma opreação (1-5): 6\n",
      "Digite o 1º número: 2\n",
      "Digite o 2º número: 2\n"
     ]
    },
    {
     "name": "stdout",
     "output_type": "stream",
     "text": [
      "Operação incorreta. Por favor, tente novamente!\n",
      "\n",
      "CALCULADORA PYTHON \n",
      "1 - Adição \n",
      "2 - Subtração \n",
      "3 - Multiplicação \n",
      "4 - Divisão \n",
      "5 - Sair\n"
     ]
    },
    {
     "name": "stdin",
     "output_type": "stream",
     "text": [
      "Escolha uma opreação (1-5): 4\n",
      "Digite o 1º número: 2\n",
      "Digite o 2º número: 2\n"
     ]
    },
    {
     "name": "stdout",
     "output_type": "stream",
     "text": [
      "Resultado: 1.0\n",
      "\n",
      "CALCULADORA PYTHON \n",
      "1 - Adição \n",
      "2 - Subtração \n",
      "3 - Multiplicação \n",
      "4 - Divisão \n",
      "5 - Sair\n"
     ]
    }
   ],
   "source": [
    "while True:\n",
    "    print (\"\\nCALCULADORA PYTHON\", \"\\n1 - Adição\", \"\\n2 - Subtração\", \"\\n3 - Multiplicação\", \"\\n4 - Divisão\", \"\\n5 - Sair\")\n",
    "    opcao = int(input(\"Escolha uma opreação (1-5):\"))\n",
    "    \n",
    "    if opcao == 5:\n",
    "        print(\"Até breve.\")\n",
    "        break\n",
    "\n",
    "    num_01 = float(input(\"Digite o 1º número:\"))\n",
    "    num_02 = float(input(\"Digite o 2º número:\"))\n",
    "    \n",
    "    if opcao == 1:\n",
    "        resultado = num_01 + num_02\n",
    "        print (\"Resultado:\", resultado)\n",
    "\n",
    "    elif opcao == 2:\n",
    "        resultado = num_01 - num_02\n",
    "        print (\"Resultado:\", resultado)\n",
    "\n",
    "    elif opcao == 3:\n",
    "        resultado = num_01 * num_02\n",
    "        print (\"Resultado:\", resultado)\n",
    "\n",
    "    elif opcao == 4:\n",
    "        if num_02 != 0 :\n",
    "            resultado = num_01 // num_02\n",
    "            print (\"Resultado:\", resultado)\n",
    "\n",
    "        else:\n",
    "            print (\"Error. Divisão por ZERO.\")\n",
    "\n",
    "    else:\n",
    "        print(\"Operação incorreta. Por favor, tente novamente!\")\n",
    "    \n"
   ]
  }
 ],
 "metadata": {
  "kernelspec": {
   "display_name": "Python 3 (ipykernel)",
   "language": "python",
   "name": "python3"
  },
  "language_info": {
   "codemirror_mode": {
    "name": "ipython",
    "version": 3
   },
   "file_extension": ".py",
   "mimetype": "text/x-python",
   "name": "python",
   "nbconvert_exporter": "python",
   "pygments_lexer": "ipython3",
   "version": "3.12.4"
  }
 },
 "nbformat": 4,
 "nbformat_minor": 5
}
